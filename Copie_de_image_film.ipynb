{
 "cells": [
  {
   "cell_type": "code",
   "execution_count": 2,
   "metadata": {
    "colab": {
     "base_uri": "https://localhost:8080/"
    },
    "id": "EBqlXjP0uc3c",
    "outputId": "9b70154d-8c55-4392-c44c-b387b2cd0729"
   },
   "outputs": [
    {
     "name": "stdout",
     "output_type": "stream",
     "text": [
      "Requirement already satisfied: linkpreview in c:\\users\\baptiste\\anaconda3\\lib\\site-packages (0.1.11)\n",
      "Requirement already satisfied: requests>=2.22.0 in c:\\users\\baptiste\\anaconda3\\lib\\site-packages (from linkpreview) (2.24.0)\n",
      "Requirement already satisfied: beautifulsoup4>=4.4.0 in c:\\users\\baptiste\\anaconda3\\lib\\site-packages (from linkpreview) (4.9.1)\n",
      "Requirement already satisfied: certifi>=2017.4.17 in c:\\users\\baptiste\\anaconda3\\lib\\site-packages (from requests>=2.22.0->linkpreview) (2020.6.20)\n",
      "Requirement already satisfied: urllib3!=1.25.0,!=1.25.1,<1.26,>=1.21.1 in c:\\users\\baptiste\\anaconda3\\lib\\site-packages (from requests>=2.22.0->linkpreview) (1.25.9)\n",
      "Requirement already satisfied: idna<3,>=2.5 in c:\\users\\baptiste\\anaconda3\\lib\\site-packages (from requests>=2.22.0->linkpreview) (2.10)\n",
      "Requirement already satisfied: chardet<4,>=3.0.2 in c:\\users\\baptiste\\anaconda3\\lib\\site-packages (from requests>=2.22.0->linkpreview) (3.0.4)\n",
      "Requirement already satisfied: soupsieve>1.2 in c:\\users\\baptiste\\anaconda3\\lib\\site-packages (from beautifulsoup4>=4.4.0->linkpreview) (2.0.1)\n",
      "Requirement already satisfied: bs4 in c:\\users\\baptiste\\anaconda3\\lib\\site-packages (0.0.1)\n",
      "Requirement already satisfied: beautifulsoup4 in c:\\users\\baptiste\\anaconda3\\lib\\site-packages (from bs4) (4.9.1)\n",
      "Requirement already satisfied: soupsieve>1.2 in c:\\users\\baptiste\\anaconda3\\lib\\site-packages (from beautifulsoup4->bs4) (2.0.1)\n",
      "Requirement already satisfied: linkpreview in c:\\users\\baptiste\\anaconda3\\lib\\site-packages (0.1.11)\n",
      "Requirement already satisfied: requests>=2.22.0 in c:\\users\\baptiste\\anaconda3\\lib\\site-packages (from linkpreview) (2.24.0)\n",
      "Requirement already satisfied: beautifulsoup4>=4.4.0 in c:\\users\\baptiste\\anaconda3\\lib\\site-packages (from linkpreview) (4.9.1)\n",
      "Requirement already satisfied: urllib3!=1.25.0,!=1.25.1,<1.26,>=1.21.1 in c:\\users\\baptiste\\anaconda3\\lib\\site-packages (from requests>=2.22.0->linkpreview) (1.25.9)\n",
      "Requirement already satisfied: chardet<4,>=3.0.2 in c:\\users\\baptiste\\anaconda3\\lib\\site-packages (from requests>=2.22.0->linkpreview) (3.0.4)\n",
      "Requirement already satisfied: certifi>=2017.4.17 in c:\\users\\baptiste\\anaconda3\\lib\\site-packages (from requests>=2.22.0->linkpreview) (2020.6.20)\n",
      "Requirement already satisfied: idna<3,>=2.5 in c:\\users\\baptiste\\anaconda3\\lib\\site-packages (from requests>=2.22.0->linkpreview) (2.10)\n",
      "Requirement already satisfied: soupsieve>1.2 in c:\\users\\baptiste\\anaconda3\\lib\\site-packages (from beautifulsoup4>=4.4.0->linkpreview) (2.0.1)\n"
     ]
    }
   ],
   "source": [
    "!pip install linkpreview\n",
    "!pip install bs4\n",
    "!pip install linkpreview\n"
   ]
  },
  {
   "cell_type": "code",
   "execution_count": 1,
   "metadata": {
    "id": "ZZu7L0H_utI1"
   },
   "outputs": [],
   "source": [
    "from linkpreview import link_preview\n",
    "from bs4 import BeautifulSoup\n",
    "import pandas as pd\n"
   ]
  },
  {
   "cell_type": "code",
   "execution_count": 27,
   "metadata": {
    "id": "laWnpXx-u1c1"
   },
   "outputs": [],
   "source": [
    "image=pd.read_csv(r\"C:/Users/Baptiste/Desktop/projet_3/moviz/ml-latest/links.csv\")"
   ]
  },
  {
   "cell_type": "code",
   "execution_count": 28,
   "metadata": {
    "colab": {
     "base_uri": "https://localhost:8080/",
     "height": 407
    },
    "id": "arl1g-RPu-gt",
    "outputId": "874e1fc6-85f8-4b9e-98c7-2c00aaa4052f"
   },
   "outputs": [
    {
     "data": {
      "text/html": [
       "<div>\n",
       "<style scoped>\n",
       "    .dataframe tbody tr th:only-of-type {\n",
       "        vertical-align: middle;\n",
       "    }\n",
       "\n",
       "    .dataframe tbody tr th {\n",
       "        vertical-align: top;\n",
       "    }\n",
       "\n",
       "    .dataframe thead th {\n",
       "        text-align: right;\n",
       "    }\n",
       "</style>\n",
       "<table border=\"1\" class=\"dataframe\">\n",
       "  <thead>\n",
       "    <tr style=\"text-align: right;\">\n",
       "      <th></th>\n",
       "      <th>movieId</th>\n",
       "      <th>imdbId</th>\n",
       "      <th>tmdbId</th>\n",
       "    </tr>\n",
       "  </thead>\n",
       "  <tbody>\n",
       "    <tr>\n",
       "      <th>0</th>\n",
       "      <td>1</td>\n",
       "      <td>114709</td>\n",
       "      <td>862.0</td>\n",
       "    </tr>\n",
       "    <tr>\n",
       "      <th>1</th>\n",
       "      <td>2</td>\n",
       "      <td>113497</td>\n",
       "      <td>8844.0</td>\n",
       "    </tr>\n",
       "    <tr>\n",
       "      <th>2</th>\n",
       "      <td>3</td>\n",
       "      <td>113228</td>\n",
       "      <td>15602.0</td>\n",
       "    </tr>\n",
       "    <tr>\n",
       "      <th>3</th>\n",
       "      <td>4</td>\n",
       "      <td>114885</td>\n",
       "      <td>31357.0</td>\n",
       "    </tr>\n",
       "    <tr>\n",
       "      <th>4</th>\n",
       "      <td>5</td>\n",
       "      <td>113041</td>\n",
       "      <td>11862.0</td>\n",
       "    </tr>\n",
       "    <tr>\n",
       "      <th>...</th>\n",
       "      <td>...</td>\n",
       "      <td>...</td>\n",
       "      <td>...</td>\n",
       "    </tr>\n",
       "    <tr>\n",
       "      <th>58093</th>\n",
       "      <td>193876</td>\n",
       "      <td>38566</td>\n",
       "      <td>78251.0</td>\n",
       "    </tr>\n",
       "    <tr>\n",
       "      <th>58094</th>\n",
       "      <td>193878</td>\n",
       "      <td>1754787</td>\n",
       "      <td>87558.0</td>\n",
       "    </tr>\n",
       "    <tr>\n",
       "      <th>58095</th>\n",
       "      <td>193880</td>\n",
       "      <td>5847740</td>\n",
       "      <td>422666.0</td>\n",
       "    </tr>\n",
       "    <tr>\n",
       "      <th>58096</th>\n",
       "      <td>193882</td>\n",
       "      <td>4453756</td>\n",
       "      <td>454439.0</td>\n",
       "    </tr>\n",
       "    <tr>\n",
       "      <th>58097</th>\n",
       "      <td>193886</td>\n",
       "      <td>7606620</td>\n",
       "      <td>540871.0</td>\n",
       "    </tr>\n",
       "  </tbody>\n",
       "</table>\n",
       "<p>58098 rows × 3 columns</p>\n",
       "</div>"
      ],
      "text/plain": [
       "       movieId   imdbId    tmdbId\n",
       "0            1   114709     862.0\n",
       "1            2   113497    8844.0\n",
       "2            3   113228   15602.0\n",
       "3            4   114885   31357.0\n",
       "4            5   113041   11862.0\n",
       "...        ...      ...       ...\n",
       "58093   193876    38566   78251.0\n",
       "58094   193878  1754787   87558.0\n",
       "58095   193880  5847740  422666.0\n",
       "58096   193882  4453756  454439.0\n",
       "58097   193886  7606620  540871.0\n",
       "\n",
       "[58098 rows x 3 columns]"
      ]
     },
     "execution_count": 28,
     "metadata": {},
     "output_type": "execute_result"
    }
   ],
   "source": [
    "image"
   ]
  },
  {
   "cell_type": "code",
   "execution_count": 29,
   "metadata": {
    "id": "CZqyJwTSxhMJ"
   },
   "outputs": [],
   "source": [
    "image['imdbId']=image['imdbId'].apply(str)\n",
    "image.imdbId =image.imdbId.astype(str)"
   ]
  },
  {
   "cell_type": "code",
   "execution_count": 30,
   "metadata": {
    "colab": {
     "base_uri": "https://localhost:8080/"
    },
    "id": "dpmX1LsABX0o",
    "outputId": "3f2daf83-ed3e-4ced-a64f-6769fb5e0de7"
   },
   "outputs": [
    {
     "name": "stdout",
     "output_type": "stream",
     "text": [
      "<class 'pandas.core.frame.DataFrame'>\n",
      "RangeIndex: 58098 entries, 0 to 58097\n",
      "Data columns (total 3 columns):\n",
      " #   Column   Non-Null Count  Dtype  \n",
      "---  ------   --------------  -----  \n",
      " 0   movieId  58098 non-null  int64  \n",
      " 1   imdbId   58098 non-null  object \n",
      " 2   tmdbId   57917 non-null  float64\n",
      "dtypes: float64(1), int64(1), object(1)\n",
      "memory usage: 1.3+ MB\n"
     ]
    }
   ],
   "source": [
    "image.info()"
   ]
  },
  {
   "cell_type": "code",
   "execution_count": 31,
   "metadata": {
    "id": "fYDVYFnRAzhJ"
   },
   "outputs": [],
   "source": [
    "image['imdbId']=image['imdbId'].str.zfill(7)"
   ]
  },
  {
   "cell_type": "code",
   "execution_count": 32,
   "metadata": {
    "id": "9I94aHcGvy57"
   },
   "outputs": [],
   "source": [
    "image['first_part_link'] = \"https://www.imdb.com/title/tt\""
   ]
  },
  {
   "cell_type": "code",
   "execution_count": 33,
   "metadata": {
    "id": "NuTEf76I5hKo"
   },
   "outputs": [],
   "source": [
    "image['third_par_link']= \"/\""
   ]
  },
  {
   "cell_type": "code",
   "execution_count": 34,
   "metadata": {
    "colab": {
     "base_uri": "https://localhost:8080/",
     "height": 198
    },
    "id": "ygW0zpAbwYeU",
    "outputId": "90f71856-21d1-405d-afc4-0065a249aa24"
   },
   "outputs": [
    {
     "data": {
      "text/html": [
       "<div>\n",
       "<style scoped>\n",
       "    .dataframe tbody tr th:only-of-type {\n",
       "        vertical-align: middle;\n",
       "    }\n",
       "\n",
       "    .dataframe tbody tr th {\n",
       "        vertical-align: top;\n",
       "    }\n",
       "\n",
       "    .dataframe thead th {\n",
       "        text-align: right;\n",
       "    }\n",
       "</style>\n",
       "<table border=\"1\" class=\"dataframe\">\n",
       "  <thead>\n",
       "    <tr style=\"text-align: right;\">\n",
       "      <th></th>\n",
       "      <th>movieId</th>\n",
       "      <th>imdbId</th>\n",
       "      <th>tmdbId</th>\n",
       "      <th>first_part_link</th>\n",
       "      <th>third_par_link</th>\n",
       "    </tr>\n",
       "  </thead>\n",
       "  <tbody>\n",
       "    <tr>\n",
       "      <th>0</th>\n",
       "      <td>1</td>\n",
       "      <td>0114709</td>\n",
       "      <td>862.0</td>\n",
       "      <td>https://www.imdb.com/title/tt</td>\n",
       "      <td>/</td>\n",
       "    </tr>\n",
       "    <tr>\n",
       "      <th>1</th>\n",
       "      <td>2</td>\n",
       "      <td>0113497</td>\n",
       "      <td>8844.0</td>\n",
       "      <td>https://www.imdb.com/title/tt</td>\n",
       "      <td>/</td>\n",
       "    </tr>\n",
       "    <tr>\n",
       "      <th>2</th>\n",
       "      <td>3</td>\n",
       "      <td>0113228</td>\n",
       "      <td>15602.0</td>\n",
       "      <td>https://www.imdb.com/title/tt</td>\n",
       "      <td>/</td>\n",
       "    </tr>\n",
       "    <tr>\n",
       "      <th>3</th>\n",
       "      <td>4</td>\n",
       "      <td>0114885</td>\n",
       "      <td>31357.0</td>\n",
       "      <td>https://www.imdb.com/title/tt</td>\n",
       "      <td>/</td>\n",
       "    </tr>\n",
       "    <tr>\n",
       "      <th>4</th>\n",
       "      <td>5</td>\n",
       "      <td>0113041</td>\n",
       "      <td>11862.0</td>\n",
       "      <td>https://www.imdb.com/title/tt</td>\n",
       "      <td>/</td>\n",
       "    </tr>\n",
       "  </tbody>\n",
       "</table>\n",
       "</div>"
      ],
      "text/plain": [
       "   movieId   imdbId   tmdbId                first_part_link third_par_link\n",
       "0        1  0114709    862.0  https://www.imdb.com/title/tt              /\n",
       "1        2  0113497   8844.0  https://www.imdb.com/title/tt              /\n",
       "2        3  0113228  15602.0  https://www.imdb.com/title/tt              /\n",
       "3        4  0114885  31357.0  https://www.imdb.com/title/tt              /\n",
       "4        5  0113041  11862.0  https://www.imdb.com/title/tt              /"
      ]
     },
     "execution_count": 34,
     "metadata": {},
     "output_type": "execute_result"
    }
   ],
   "source": [
    "image.head()"
   ]
  },
  {
   "cell_type": "code",
   "execution_count": 35,
   "metadata": {
    "id": "njlACIlA5_7p"
   },
   "outputs": [],
   "source": [
    "# comparaison \n",
    "# lien 1 : https://www.imdb.com/title/tt0114709/\n",
    "# lien 2 : https://www.imdb.com/title/tt114709/\t"
   ]
  },
  {
   "cell_type": "code",
   "execution_count": 36,
   "metadata": {
    "id": "ONpOfJKywccL"
   },
   "outputs": [],
   "source": [
    "image['final_link']=image['first_part_link']+image['imdbId']+image['third_par_link']"
   ]
  },
  {
   "cell_type": "code",
   "execution_count": 37,
   "metadata": {
    "colab": {
     "base_uri": "https://localhost:8080/",
     "height": 198
    },
    "id": "yxOBBvOzx2pi",
    "outputId": "fea57a35-d55f-4565-cde5-27a5f0d7d430"
   },
   "outputs": [
    {
     "data": {
      "text/html": [
       "<div>\n",
       "<style scoped>\n",
       "    .dataframe tbody tr th:only-of-type {\n",
       "        vertical-align: middle;\n",
       "    }\n",
       "\n",
       "    .dataframe tbody tr th {\n",
       "        vertical-align: top;\n",
       "    }\n",
       "\n",
       "    .dataframe thead th {\n",
       "        text-align: right;\n",
       "    }\n",
       "</style>\n",
       "<table border=\"1\" class=\"dataframe\">\n",
       "  <thead>\n",
       "    <tr style=\"text-align: right;\">\n",
       "      <th></th>\n",
       "      <th>movieId</th>\n",
       "      <th>imdbId</th>\n",
       "      <th>tmdbId</th>\n",
       "      <th>first_part_link</th>\n",
       "      <th>third_par_link</th>\n",
       "      <th>final_link</th>\n",
       "    </tr>\n",
       "  </thead>\n",
       "  <tbody>\n",
       "    <tr>\n",
       "      <th>0</th>\n",
       "      <td>1</td>\n",
       "      <td>0114709</td>\n",
       "      <td>862.0</td>\n",
       "      <td>https://www.imdb.com/title/tt</td>\n",
       "      <td>/</td>\n",
       "      <td>https://www.imdb.com/title/tt0114709/</td>\n",
       "    </tr>\n",
       "    <tr>\n",
       "      <th>1</th>\n",
       "      <td>2</td>\n",
       "      <td>0113497</td>\n",
       "      <td>8844.0</td>\n",
       "      <td>https://www.imdb.com/title/tt</td>\n",
       "      <td>/</td>\n",
       "      <td>https://www.imdb.com/title/tt0113497/</td>\n",
       "    </tr>\n",
       "    <tr>\n",
       "      <th>2</th>\n",
       "      <td>3</td>\n",
       "      <td>0113228</td>\n",
       "      <td>15602.0</td>\n",
       "      <td>https://www.imdb.com/title/tt</td>\n",
       "      <td>/</td>\n",
       "      <td>https://www.imdb.com/title/tt0113228/</td>\n",
       "    </tr>\n",
       "    <tr>\n",
       "      <th>3</th>\n",
       "      <td>4</td>\n",
       "      <td>0114885</td>\n",
       "      <td>31357.0</td>\n",
       "      <td>https://www.imdb.com/title/tt</td>\n",
       "      <td>/</td>\n",
       "      <td>https://www.imdb.com/title/tt0114885/</td>\n",
       "    </tr>\n",
       "    <tr>\n",
       "      <th>4</th>\n",
       "      <td>5</td>\n",
       "      <td>0113041</td>\n",
       "      <td>11862.0</td>\n",
       "      <td>https://www.imdb.com/title/tt</td>\n",
       "      <td>/</td>\n",
       "      <td>https://www.imdb.com/title/tt0113041/</td>\n",
       "    </tr>\n",
       "  </tbody>\n",
       "</table>\n",
       "</div>"
      ],
      "text/plain": [
       "   movieId   imdbId   tmdbId                first_part_link third_par_link  \\\n",
       "0        1  0114709    862.0  https://www.imdb.com/title/tt              /   \n",
       "1        2  0113497   8844.0  https://www.imdb.com/title/tt              /   \n",
       "2        3  0113228  15602.0  https://www.imdb.com/title/tt              /   \n",
       "3        4  0114885  31357.0  https://www.imdb.com/title/tt              /   \n",
       "4        5  0113041  11862.0  https://www.imdb.com/title/tt              /   \n",
       "\n",
       "                              final_link  \n",
       "0  https://www.imdb.com/title/tt0114709/  \n",
       "1  https://www.imdb.com/title/tt0113497/  \n",
       "2  https://www.imdb.com/title/tt0113228/  \n",
       "3  https://www.imdb.com/title/tt0114885/  \n",
       "4  https://www.imdb.com/title/tt0113041/  "
      ]
     },
     "execution_count": 37,
     "metadata": {},
     "output_type": "execute_result"
    }
   ],
   "source": [
    "image.head()"
   ]
  },
  {
   "cell_type": "code",
   "execution_count": 38,
   "metadata": {},
   "outputs": [],
   "source": [
    "image.to_csv(\"image.csv\",index=False)"
   ]
  },
  {
   "cell_type": "code",
   "execution_count": 39,
   "metadata": {},
   "outputs": [],
   "source": [
    "image2=pd.read_csv(r\"C:/Users/Baptiste/Desktop/image.csv\")"
   ]
  },
  {
   "cell_type": "code",
   "execution_count": 40,
   "metadata": {},
   "outputs": [
    {
     "data": {
      "text/html": [
       "<div>\n",
       "<style scoped>\n",
       "    .dataframe tbody tr th:only-of-type {\n",
       "        vertical-align: middle;\n",
       "    }\n",
       "\n",
       "    .dataframe tbody tr th {\n",
       "        vertical-align: top;\n",
       "    }\n",
       "\n",
       "    .dataframe thead th {\n",
       "        text-align: right;\n",
       "    }\n",
       "</style>\n",
       "<table border=\"1\" class=\"dataframe\">\n",
       "  <thead>\n",
       "    <tr style=\"text-align: right;\">\n",
       "      <th></th>\n",
       "      <th>movieId</th>\n",
       "      <th>imdbId</th>\n",
       "      <th>tmdbId</th>\n",
       "      <th>first_part_link</th>\n",
       "      <th>third_par_link</th>\n",
       "      <th>final_link</th>\n",
       "    </tr>\n",
       "  </thead>\n",
       "  <tbody>\n",
       "    <tr>\n",
       "      <th>0</th>\n",
       "      <td>1</td>\n",
       "      <td>114709</td>\n",
       "      <td>862.0</td>\n",
       "      <td>https://www.imdb.com/title/tt</td>\n",
       "      <td>/</td>\n",
       "      <td>https://www.imdb.com/title/tt0114709/</td>\n",
       "    </tr>\n",
       "    <tr>\n",
       "      <th>1</th>\n",
       "      <td>2</td>\n",
       "      <td>113497</td>\n",
       "      <td>8844.0</td>\n",
       "      <td>https://www.imdb.com/title/tt</td>\n",
       "      <td>/</td>\n",
       "      <td>https://www.imdb.com/title/tt0113497/</td>\n",
       "    </tr>\n",
       "    <tr>\n",
       "      <th>2</th>\n",
       "      <td>3</td>\n",
       "      <td>113228</td>\n",
       "      <td>15602.0</td>\n",
       "      <td>https://www.imdb.com/title/tt</td>\n",
       "      <td>/</td>\n",
       "      <td>https://www.imdb.com/title/tt0113228/</td>\n",
       "    </tr>\n",
       "    <tr>\n",
       "      <th>3</th>\n",
       "      <td>4</td>\n",
       "      <td>114885</td>\n",
       "      <td>31357.0</td>\n",
       "      <td>https://www.imdb.com/title/tt</td>\n",
       "      <td>/</td>\n",
       "      <td>https://www.imdb.com/title/tt0114885/</td>\n",
       "    </tr>\n",
       "    <tr>\n",
       "      <th>4</th>\n",
       "      <td>5</td>\n",
       "      <td>113041</td>\n",
       "      <td>11862.0</td>\n",
       "      <td>https://www.imdb.com/title/tt</td>\n",
       "      <td>/</td>\n",
       "      <td>https://www.imdb.com/title/tt0113041/</td>\n",
       "    </tr>\n",
       "    <tr>\n",
       "      <th>...</th>\n",
       "      <td>...</td>\n",
       "      <td>...</td>\n",
       "      <td>...</td>\n",
       "      <td>...</td>\n",
       "      <td>...</td>\n",
       "      <td>...</td>\n",
       "    </tr>\n",
       "    <tr>\n",
       "      <th>58093</th>\n",
       "      <td>193876</td>\n",
       "      <td>38566</td>\n",
       "      <td>78251.0</td>\n",
       "      <td>https://www.imdb.com/title/tt</td>\n",
       "      <td>/</td>\n",
       "      <td>https://www.imdb.com/title/tt0038566/</td>\n",
       "    </tr>\n",
       "    <tr>\n",
       "      <th>58094</th>\n",
       "      <td>193878</td>\n",
       "      <td>1754787</td>\n",
       "      <td>87558.0</td>\n",
       "      <td>https://www.imdb.com/title/tt</td>\n",
       "      <td>/</td>\n",
       "      <td>https://www.imdb.com/title/tt1754787/</td>\n",
       "    </tr>\n",
       "    <tr>\n",
       "      <th>58095</th>\n",
       "      <td>193880</td>\n",
       "      <td>5847740</td>\n",
       "      <td>422666.0</td>\n",
       "      <td>https://www.imdb.com/title/tt</td>\n",
       "      <td>/</td>\n",
       "      <td>https://www.imdb.com/title/tt5847740/</td>\n",
       "    </tr>\n",
       "    <tr>\n",
       "      <th>58096</th>\n",
       "      <td>193882</td>\n",
       "      <td>4453756</td>\n",
       "      <td>454439.0</td>\n",
       "      <td>https://www.imdb.com/title/tt</td>\n",
       "      <td>/</td>\n",
       "      <td>https://www.imdb.com/title/tt4453756/</td>\n",
       "    </tr>\n",
       "    <tr>\n",
       "      <th>58097</th>\n",
       "      <td>193886</td>\n",
       "      <td>7606620</td>\n",
       "      <td>540871.0</td>\n",
       "      <td>https://www.imdb.com/title/tt</td>\n",
       "      <td>/</td>\n",
       "      <td>https://www.imdb.com/title/tt7606620/</td>\n",
       "    </tr>\n",
       "  </tbody>\n",
       "</table>\n",
       "<p>58098 rows × 6 columns</p>\n",
       "</div>"
      ],
      "text/plain": [
       "       movieId   imdbId    tmdbId                first_part_link  \\\n",
       "0            1   114709     862.0  https://www.imdb.com/title/tt   \n",
       "1            2   113497    8844.0  https://www.imdb.com/title/tt   \n",
       "2            3   113228   15602.0  https://www.imdb.com/title/tt   \n",
       "3            4   114885   31357.0  https://www.imdb.com/title/tt   \n",
       "4            5   113041   11862.0  https://www.imdb.com/title/tt   \n",
       "...        ...      ...       ...                            ...   \n",
       "58093   193876    38566   78251.0  https://www.imdb.com/title/tt   \n",
       "58094   193878  1754787   87558.0  https://www.imdb.com/title/tt   \n",
       "58095   193880  5847740  422666.0  https://www.imdb.com/title/tt   \n",
       "58096   193882  4453756  454439.0  https://www.imdb.com/title/tt   \n",
       "58097   193886  7606620  540871.0  https://www.imdb.com/title/tt   \n",
       "\n",
       "      third_par_link                             final_link  \n",
       "0                  /  https://www.imdb.com/title/tt0114709/  \n",
       "1                  /  https://www.imdb.com/title/tt0113497/  \n",
       "2                  /  https://www.imdb.com/title/tt0113228/  \n",
       "3                  /  https://www.imdb.com/title/tt0114885/  \n",
       "4                  /  https://www.imdb.com/title/tt0113041/  \n",
       "...              ...                                    ...  \n",
       "58093              /  https://www.imdb.com/title/tt0038566/  \n",
       "58094              /  https://www.imdb.com/title/tt1754787/  \n",
       "58095              /  https://www.imdb.com/title/tt5847740/  \n",
       "58096              /  https://www.imdb.com/title/tt4453756/  \n",
       "58097              /  https://www.imdb.com/title/tt7606620/  \n",
       "\n",
       "[58098 rows x 6 columns]"
      ]
     },
     "execution_count": 40,
     "metadata": {},
     "output_type": "execute_result"
    }
   ],
   "source": [
    "image2"
   ]
  },
  {
   "cell_type": "code",
   "execution_count": 41,
   "metadata": {
    "id": "1WwD681SpkxR"
   },
   "outputs": [],
   "source": [
    "from linkpreview import link_preview\n",
    "from PIL import Image"
   ]
  },
  {
   "cell_type": "code",
   "execution_count": 42,
   "metadata": {
    "id": "U0yt3eqGG7NJ"
   },
   "outputs": [],
   "source": [
    "image_test=image.iloc[0:1].copy()"
   ]
  },
  {
   "cell_type": "code",
   "execution_count": 43,
   "metadata": {},
   "outputs": [
    {
     "data": {
      "text/html": [
       "<div>\n",
       "<style scoped>\n",
       "    .dataframe tbody tr th:only-of-type {\n",
       "        vertical-align: middle;\n",
       "    }\n",
       "\n",
       "    .dataframe tbody tr th {\n",
       "        vertical-align: top;\n",
       "    }\n",
       "\n",
       "    .dataframe thead th {\n",
       "        text-align: right;\n",
       "    }\n",
       "</style>\n",
       "<table border=\"1\" class=\"dataframe\">\n",
       "  <thead>\n",
       "    <tr style=\"text-align: right;\">\n",
       "      <th></th>\n",
       "      <th>movieId</th>\n",
       "      <th>imdbId</th>\n",
       "      <th>tmdbId</th>\n",
       "      <th>first_part_link</th>\n",
       "      <th>third_par_link</th>\n",
       "      <th>final_link</th>\n",
       "    </tr>\n",
       "  </thead>\n",
       "  <tbody>\n",
       "    <tr>\n",
       "      <th>0</th>\n",
       "      <td>1</td>\n",
       "      <td>0114709</td>\n",
       "      <td>862.0</td>\n",
       "      <td>https://www.imdb.com/title/tt</td>\n",
       "      <td>/</td>\n",
       "      <td>https://www.imdb.com/title/tt0114709/</td>\n",
       "    </tr>\n",
       "  </tbody>\n",
       "</table>\n",
       "</div>"
      ],
      "text/plain": [
       "   movieId   imdbId  tmdbId                first_part_link third_par_link  \\\n",
       "0        1  0114709   862.0  https://www.imdb.com/title/tt              /   \n",
       "\n",
       "                              final_link  \n",
       "0  https://www.imdb.com/title/tt0114709/  "
      ]
     },
     "execution_count": 43,
     "metadata": {},
     "output_type": "execute_result"
    }
   ],
   "source": [
    "image_test"
   ]
  },
  {
   "cell_type": "code",
   "execution_count": 44,
   "metadata": {
    "colab": {
     "base_uri": "https://localhost:8080/",
     "height": 204
    },
    "id": "k8W1gRyGFc80",
    "outputId": "586aacd2-6a62-46fb-e8d3-9c36d745bbf8"
   },
   "outputs": [
    {
     "data": {
      "text/html": [
       "<div>\n",
       "<style scoped>\n",
       "    .dataframe tbody tr th:only-of-type {\n",
       "        vertical-align: middle;\n",
       "    }\n",
       "\n",
       "    .dataframe tbody tr th {\n",
       "        vertical-align: top;\n",
       "    }\n",
       "\n",
       "    .dataframe thead th {\n",
       "        text-align: right;\n",
       "    }\n",
       "</style>\n",
       "<table border=\"1\" class=\"dataframe\">\n",
       "  <thead>\n",
       "    <tr style=\"text-align: right;\">\n",
       "      <th></th>\n",
       "      <th>movieId</th>\n",
       "      <th>imdbId</th>\n",
       "      <th>tmdbId</th>\n",
       "      <th>first_part_link</th>\n",
       "      <th>third_par_link</th>\n",
       "      <th>final_link</th>\n",
       "      <th>image_unique</th>\n",
       "    </tr>\n",
       "  </thead>\n",
       "  <tbody>\n",
       "    <tr>\n",
       "      <th>0</th>\n",
       "      <td>1</td>\n",
       "      <td>0114709</td>\n",
       "      <td>862.0</td>\n",
       "      <td>https://www.imdb.com/title/tt</td>\n",
       "      <td>/</td>\n",
       "      <td>https://www.imdb.com/title/tt0114709/</td>\n",
       "      <td>https://m.media-amazon.com/images/M/MV5BMDU2ZW...</td>\n",
       "    </tr>\n",
       "  </tbody>\n",
       "</table>\n",
       "</div>"
      ],
      "text/plain": [
       "   movieId   imdbId  tmdbId                first_part_link third_par_link  \\\n",
       "0        1  0114709   862.0  https://www.imdb.com/title/tt              /   \n",
       "\n",
       "                              final_link  \\\n",
       "0  https://www.imdb.com/title/tt0114709/   \n",
       "\n",
       "                                        image_unique  \n",
       "0  https://m.media-amazon.com/images/M/MV5BMDU2ZW...  "
      ]
     },
     "execution_count": 44,
     "metadata": {},
     "output_type": "execute_result"
    }
   ],
   "source": [
    "image_test['image_unique'] = image_test['final_link'].apply(lambda x: link_preview(x).image)\n",
    "image_test.head()"
   ]
  },
  {
   "cell_type": "code",
   "execution_count": 45,
   "metadata": {
    "id": "rHg7iTMdIR8d"
   },
   "outputs": [
    {
     "name": "stdout",
     "output_type": "stream",
     "text": [
      "absolute_image: https://m.media-amazon.com/images/M/MV5BMDU2ZWJlMjktMTRhMy00ZTA5LWEzNDgtYmNmZTEwZTViZWJkXkEyXkFqcGdeQXVyNDQ2OTk4MzI@._V1_UY1200_CR87,0,630,1200_AL_.jpg\n"
     ]
    }
   ],
   "source": [
    "preview=link_preview(\"https://www.imdb.com/title/tt0114709/\")\n",
    "print(\"absolute_image:\", preview.absolute_image)"
   ]
  },
  {
   "cell_type": "code",
   "execution_count": 47,
   "metadata": {
    "id": "IDWhdtV7KYR9"
   },
   "outputs": [],
   "source": [
    "# how to open an image by a link \n",
    "import urllib.request\n",
    "import PIL.Image\n",
    "#from PIL import Image\n",
    "url = image_test['image_unique'][0] #selectioner une valeur d'une colonnes \n",
    "image = PIL.Image.open(urllib.request.urlopen(url))\n",
    "width, height = image.size"
   ]
  },
  {
   "cell_type": "code",
   "execution_count": 52,
   "metadata": {
    "colab": {
     "base_uri": "https://localhost:8080/",
     "height": 1000
    },
    "id": "wyp3Be6nLoOE",
    "outputId": "306bfaa5-fb3c-454b-a7df-19d62dd94910"
   },
   "outputs": [
    {
     "ename": "AttributeError",
     "evalue": "can't set attribute",
     "output_type": "error",
     "traceback": [
      "\u001b[1;31m---------------------------------------------------------------------------\u001b[0m",
      "\u001b[1;31mAttributeError\u001b[0m                            Traceback (most recent call last)",
      "\u001b[1;32m<ipython-input-52-db00be317f86>\u001b[0m in \u001b[0;36m<module>\u001b[1;34m\u001b[0m\n\u001b[1;32m----> 1\u001b[1;33m \u001b[0mimage\u001b[0m\u001b[1;33m.\u001b[0m\u001b[0msize\u001b[0m\u001b[1;33m=\u001b[0m\u001b[1;33m(\u001b[0m\u001b[1;36m50\u001b[0m\u001b[1;33m,\u001b[0m\u001b[1;36m100\u001b[0m\u001b[1;33m)\u001b[0m\u001b[1;33m\u001b[0m\u001b[1;33m\u001b[0m\u001b[0m\n\u001b[0m",
      "\u001b[1;31mAttributeError\u001b[0m: can't set attribute"
     ]
    }
   ],
   "source": [
    "image.size=(50,100)"
   ]
  },
  {
   "cell_type": "code",
   "execution_count": null,
   "metadata": {},
   "outputs": [],
   "source": []
  }
 ],
 "metadata": {
  "accelerator": "GPU",
  "colab": {
   "collapsed_sections": [],
   "name": "Copie de image film.ipynb",
   "provenance": []
  },
  "kernelspec": {
   "display_name": "Python 3",
   "language": "python",
   "name": "python3"
  },
  "language_info": {
   "codemirror_mode": {
    "name": "ipython",
    "version": 3
   },
   "file_extension": ".py",
   "mimetype": "text/x-python",
   "name": "python",
   "nbconvert_exporter": "python",
   "pygments_lexer": "ipython3",
   "version": "3.8.3"
  }
 },
 "nbformat": 4,
 "nbformat_minor": 1
}
