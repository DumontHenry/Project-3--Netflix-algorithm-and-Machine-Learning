{
  "nbformat": 4,
  "nbformat_minor": 0,
  "metadata": {
    "colab": {
      "name": "MOVIES-LAST",
      "provenance": []
    },
    "kernelspec": {
      "name": "python3",
      "display_name": "Python 3"
    }
  },
  "cells": [
    {
      "cell_type": "code",
      "metadata": {
        "colab": {
          "base_uri": "https://localhost:8080/"
        },
        "id": "34okHqc39l2c",
        "outputId": "a71fa414-d24e-4059-c364-2e7639872adf"
      },
      "source": [
        "import pandas as pd\n",
        "import numpy as np\n",
        "import matplotlib.pyplot as plt\n",
        "import seaborn as sns\n",
        "import plotly.express as px\n",
        "from sklearn.linear_model import LinearRegression\n",
        "from sklearn import datasets, linear_model\n",
        "from sklearn.neighbors import KNeighborsRegressor\n",
        "from sklearn.neighbors import KNeighborsClassifier\n",
        "from sklearn.linear_model import LogisticRegression\n",
        "from sklearn.tree import DecisionTreeClassifier\n",
        "from sklearn.model_selection import train_test_split\n",
        "from sklearn.metrics import accuracy_score, confusion_matrix, silhouette_score\n",
        "from sklearn.neighbors import NearestNeighbors\n",
        "from sklearn.cluster import KMeans\n",
        "\n",
        "from google.colab import drive\n",
        "drive.mount('/content/drive')"
      ],
      "execution_count": null,
      "outputs": [
        {
          "output_type": "stream",
          "text": [
            "Mounted at /content/drive\n"
          ],
          "name": "stdout"
        }
      ]
    },
    {
      "cell_type": "code",
      "metadata": {
        "id": "mFSQKbnI9pJI"
      },
      "source": [
        "!pip install streamlit"
      ],
      "execution_count": null,
      "outputs": []
    },
    {
      "cell_type": "code",
      "metadata": {
        "id": "7xWtyywaA_EO"
      },
      "source": [
        "!pip install pyngrok"
      ],
      "execution_count": null,
      "outputs": []
    },
    {
      "cell_type": "code",
      "metadata": {
        "id": "PqvPLDZ0ZZZj"
      },
      "source": [
        "!pip install linkpreview"
      ],
      "execution_count": null,
      "outputs": []
    },
    {
      "cell_type": "code",
      "metadata": {
        "colab": {
          "base_uri": "https://localhost:8080/"
        },
        "id": "wJ3lcdqIBQPB",
        "outputId": "abd11659-566a-4ef3-f60f-d0b09b7b6315"
      },
      "source": [
        "%%writefile app.py\n",
        "#!/usr/bin/env python\n",
        "# coding: utf-8\n",
        "\n",
        "#!/usr/bin/env python\n",
        "# coding: utf-8\n",
        "\n",
        "\n",
        "import numpy as np\n",
        "import pandas as pd\n",
        "import streamlit as st\n",
        "from linkpreview import link_preview\n",
        "from PIL import Image\n",
        "import urllib.request\n",
        "\n",
        "st.write(\"\"\"\n",
        "# Wild Cinema\n",
        "\"\"\")\n",
        "\n",
        "@st.cache(show_spinner=False)\n",
        "def imports():\n",
        "    movies=pd.read_csv('/content/drive/MyDrive/movies2.csv')\n",
        "    distances=pd.read_csv('/content/drive/MyDrive/distances.csv')\n",
        "    genome_score = pd.read_csv('/content/drive/MyDrive/genome-scores.csv') #\n",
        "    MB=movies[movies.tags==True].reset_index(drop=True)\n",
        "    links=pd.read_csv(\"/content/drive/MyDrive/imageLLL.csv\")\n",
        "    return (movies,distances,genome_score,MB,links)\n",
        "\n",
        "movies,distances,genome_score,MB,links=imports()\n",
        "\n",
        "def userinput():\n",
        "    out=st.text_input(\"Entrez un nom de film\")\n",
        "    return out.lower()\n",
        "\n",
        "entry1=userinput()\n",
        "\n",
        "@st.cache(show_spinner=False)\n",
        "def pos(entry):\n",
        "    possibilities=movies[movies.title2.str.contains(entry)].reset_index(drop=True)\n",
        "    return possibilities\n",
        "\n",
        "possibilities=pos(entry1)\n",
        "if len(possibilities)==0:\n",
        "    st.write(\"Désolé, pas de film avec ce nom.\")    \n",
        "else:      \n",
        "    if len(possibilities)==1:\n",
        "        target=possibilities.title[0]    \n",
        "    else:\n",
        "        choice=st.selectbox(label=\"Cherchez vous un de ces films?\",options=possibilities.title)\n",
        "\n",
        "        if st.button('Valider'):\n",
        "            target=choice\n",
        "    try:\n",
        "        target_index=movies.loc[movies.title==target].index[0]  \n",
        "        if movies.loc[target_index,\"tags\"]:\n",
        "            st.write(\"Recommandations par mot-clés\")\n",
        "            IdFilmChosen=movies.loc[target_index,\"movieId\"]\n",
        "            top_20_tags_id = genome_score[genome_score['movieId'] == IdFilmChosen].sort_values('relevance', ascending = False).iloc[0:20,1]\n",
        "\n",
        "            most_relevant_movies = genome_score[genome_score['tagId'].isin(list(top_20_tags_id))].groupby(\n",
        "                'movieId', as_index = False).mean().drop('tagId', axis = 1)\n",
        "            df2=MB.loc[most_relevant_movies.sort_values('relevance', ascending = False).head(6).index.values,[\"title\",\"movieId\"]]    \n",
        "            st.write(df2.title)\n",
        "            \n",
        "\n",
        "        st.write(\"Recommandations par genres\")\n",
        "        df1=movies.loc[np.array(distances.loc[target_index]).reshape(10,),[\"title\",\"movieId\"]].head(6)\n",
        "        st.write(df1.title)\n",
        "\n",
        "        df = pd.concat([df1,df2],axis=0).drop_duplicates()\n",
        "        image=links.loc[links.movieId.isin(df.movieId),\"final_link\"]\n",
        "        liste=[]\n",
        "        for i in image:\n",
        "            pic=Image.open(urllib.request.urlopen(link_preview(i).absolute_image))\n",
        "            liste.append(pic)\n",
        "        \n",
        "        st.image(liste,width=120)    \n",
        "    except:\n",
        "        pass"
      ],
      "execution_count": null,
      "outputs": [
        {
          "output_type": "stream",
          "text": [
            "Writing app.py\n"
          ],
          "name": "stdout"
        }
      ]
    },
    {
      "cell_type": "code",
      "metadata": {
        "colab": {
          "base_uri": "https://localhost:8080/"
        },
        "id": "NtmzDZaTCD_3",
        "outputId": "a1b6fc8e-f9d7-4c7f-cd71-28f1da80ee67"
      },
      "source": [
        "!ls"
      ],
      "execution_count": null,
      "outputs": [
        {
          "output_type": "stream",
          "text": [
            "app.py\tdrive  sample_data\n"
          ],
          "name": "stdout"
        }
      ]
    },
    {
      "cell_type": "code",
      "metadata": {
        "colab": {
          "base_uri": "https://localhost:8080/"
        },
        "id": "xZfjUxfkFW1K",
        "outputId": "ca5ef291-2d8e-42ce-cf96-3fd13ab5ea08"
      },
      "source": [
        "!ngrok authtoken 1lBXr6r9fgcKUjRdHmXJgoMvAsv_74MDGC8cxudQ48YPqcrYa"
      ],
      "execution_count": null,
      "outputs": [
        {
          "output_type": "stream",
          "text": [
            "Authtoken saved to configuration file: /root/.ngrok2/ngrok.yml\n"
          ],
          "name": "stdout"
        }
      ]
    },
    {
      "cell_type": "code",
      "metadata": {
        "id": "Dq-TaMZUGEwC"
      },
      "source": [
        "!ngrok"
      ],
      "execution_count": null,
      "outputs": []
    },
    {
      "cell_type": "code",
      "metadata": {
        "id": "umyUaAiKGYuM"
      },
      "source": [
        "from pyngrok import ngrok"
      ],
      "execution_count": null,
      "outputs": []
    },
    {
      "cell_type": "code",
      "metadata": {
        "id": "w42E2pBrJ5uo"
      },
      "source": [
        "!streamlit run --server.port 80 app.py &>/dev/null&"
      ],
      "execution_count": null,
      "outputs": []
    },
    {
      "cell_type": "code",
      "metadata": {
        "colab": {
          "base_uri": "https://localhost:8080/"
        },
        "id": "Wcr09J6HG7px",
        "outputId": "1ef5470e-7b67-4193-ac4f-ca4913be0bbc"
      },
      "source": [
        "!pgrep streamlit"
      ],
      "execution_count": null,
      "outputs": [
        {
          "output_type": "stream",
          "text": [
            "334\n"
          ],
          "name": "stdout"
        }
      ]
    },
    {
      "cell_type": "code",
      "metadata": {
        "id": "6QyFLRfkCxGD"
      },
      "source": [
        "# Setup a tunnel to the streamlit port 8501\n",
        "publ_url = ngrok.connect(port='8501')"
      ],
      "execution_count": null,
      "outputs": []
    },
    {
      "cell_type": "code",
      "metadata": {
        "colab": {
          "base_uri": "https://localhost:8080/"
        },
        "id": "9LAZPu4nEK__",
        "outputId": "57ee9fd6-c4ed-4f16-d587-a0349614b2a9"
      },
      "source": [
        "publ_url"
      ],
      "execution_count": null,
      "outputs": [
        {
          "output_type": "execute_result",
          "data": {
            "text/plain": [
              "<NgrokTunnel: \"http://97a2357d7c68.ngrok.io\" -> \"http://localhost:80\">"
            ]
          },
          "metadata": {
            "tags": []
          },
          "execution_count": 13
        }
      ]
    }
  ]
}